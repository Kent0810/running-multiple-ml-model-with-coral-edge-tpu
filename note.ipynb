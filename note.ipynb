{
 "cells": [
  {
   "cell_type": "markdown",
   "metadata": {},
   "source": [
    "# How is the Edge TPU different from Cloud TPUs?"
   ]
  },
  {
   "cell_type": "markdown",
   "metadata": {},
   "source": [
    "- Cloud TPUs run in a Google data center, and therefore offer very high computational speeds—an individual v3 Cloud TPU can perform 420 trillion floating-point operations per second (420 teraflops). Cloud TPUs are ideal when you're training large, complex ML models—for example, models that might take weeks to train on other hardware can converge in mere hours on Cloud TPUs.\n",
    "\n",
    "- Whereas, the Edge TPU is designed for small, low-power devices, and is primarily intended for model inferencing (although it can accelerate some types of transfer learning). So although the computational speed of the Edge TPU is a fraction of the speed on a Cloud TPU, the Edge TPU is ideal when you want on-device ML inferencing that's extremely fast and power-efficient."
   ]
  }
 ],
 "metadata": {
  "language_info": {
   "name": "python"
  }
 },
 "nbformat": 4,
 "nbformat_minor": 2
}
